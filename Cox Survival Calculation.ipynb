{
 "cells": [
  {
   "cell_type": "code",
   "execution_count": 1,
   "metadata": {},
   "outputs": [],
   "source": [
    "from lifelines import KaplanMeierFitter\n",
    "from lifelines import CoxPHFitter\n",
    "import pandas as pd\n",
    "import numpy as np\n",
    "from ipywidgets import *\n",
    "from IPython.display import Javascript, display\n",
    "import ipython_blocking # enables %block and %blockrun magic\n",
    "\n",
    "%run ./Cox_helper.ipynb\n"
   ]
  },
  {
   "cell_type": "code",
   "execution_count": 2,
   "metadata": {
    "scrolled": true
   },
   "outputs": [
    {
     "name": "stdout",
     "output_type": "stream",
     "text": [
      "Enter the values for the patient\n"
     ]
    },
    {
     "data": {
      "application/vnd.jupyter.widget-view+json": {
       "model_id": "929bec64a3da4ffab4b33ac328e7d8f8",
       "version_major": 2,
       "version_minor": 0
      },
      "text/plain": [
       "Text(value='yes=1, no=0', description='DM', style=DescriptionStyle(description_width='initial'))"
      ]
     },
     "metadata": {},
     "output_type": "display_data"
    },
    {
     "data": {
      "application/vnd.jupyter.widget-view+json": {
       "model_id": "fe901088e3754043962e33e2b734fd37",
       "version_major": 2,
       "version_minor": 0
      },
      "text/plain": [
       "Text(value='yes=1, no=0', description='HF', style=DescriptionStyle(description_width='initial'))"
      ]
     },
     "metadata": {},
     "output_type": "display_data"
    },
    {
     "data": {
      "application/vnd.jupyter.widget-view+json": {
       "model_id": "eacb43e00b464a1bb5f68dc2d4a0b151",
       "version_major": 2,
       "version_minor": 0
      },
      "text/plain": [
       "Text(value='yes=1, no=0', description='PVD', style=DescriptionStyle(description_width='initial'))"
      ]
     },
     "metadata": {},
     "output_type": "display_data"
    },
    {
     "data": {
      "application/vnd.jupyter.widget-view+json": {
       "model_id": "3d9390eae9f04505afd1d49dbd5b88a6",
       "version_major": 2,
       "version_minor": 0
      },
      "text/plain": [
       "Text(value='yes=1, no=0', description='DEM', style=DescriptionStyle(description_width='initial'))"
      ]
     },
     "metadata": {},
     "output_type": "display_data"
    },
    {
     "data": {
      "application/vnd.jupyter.widget-view+json": {
       "model_id": "f9f37bd6255646969cb5cbe1c8809fb8",
       "version_major": 2,
       "version_minor": 0
      },
      "text/plain": [
       "Text(value='e.g. 80', description='Age', style=DescriptionStyle(description_width='initial'))"
      ]
     },
     "metadata": {},
     "output_type": "display_data"
    },
    {
     "data": {
      "application/vnd.jupyter.widget-view+json": {
       "model_id": "5ac2eeefdb5e4600ae534d65e83f5e13",
       "version_major": 2,
       "version_minor": 0
      },
      "text/plain": [
       "Text(value='yes=1, no=0', description='Non-Optimal Start HD', style=DescriptionStyle(description_width='initia…"
      ]
     },
     "metadata": {},
     "output_type": "display_data"
    },
    {
     "data": {
      "application/vnd.jupyter.widget-view+json": {
       "model_id": "78041099b0b3431c90860565313c151a",
       "version_major": 2,
       "version_minor": 0
      },
      "text/plain": [
       "Text(value='yes=1, no=0', description='Optimal Start PD', style=DescriptionStyle(description_width='initial'))"
      ]
     },
     "metadata": {},
     "output_type": "display_data"
    },
    {
     "data": {
      "application/vnd.jupyter.widget-view+json": {
       "model_id": "9ed575c75e6d444f8868e2a036aa1be6",
       "version_major": 2,
       "version_minor": 0
      },
      "text/plain": [
       "Text(value='yes=1, no=0', description='Optimal Start HD', style=DescriptionStyle(description_width='initial'))"
      ]
     },
     "metadata": {},
     "output_type": "display_data"
    },
    {
     "data": {
      "application/vnd.jupyter.widget-view+json": {
       "model_id": "50a8a00df3ea4d8390474e8c1467e231",
       "version_major": 2,
       "version_minor": 0
      },
      "text/plain": [
       "Text(value='yes=1, no=0', description='No dialysis', style=DescriptionStyle(description_width='initial'))"
      ]
     },
     "metadata": {},
     "output_type": "display_data"
    },
    {
     "data": {
      "application/vnd.jupyter.widget-view+json": {
       "model_id": "59a9276d4cd5478fbee6724095b92d3d",
       "version_major": 2,
       "version_minor": 0
      },
      "text/plain": [
       "Button(description='Calculate', style=ButtonStyle())"
      ]
     },
     "metadata": {},
     "output_type": "display_data"
    }
   ],
   "source": [
    "button = widgets.Button(description=\"Calculate\")\n",
    "button.on_click(run_all)\n",
    "print(\"Enter the values for the patient\")\n",
    "f = patient_input()\n",
    "display(button)"
   ]
  },
  {
   "cell_type": "code",
   "execution_count": null,
   "metadata": {},
   "outputs": [],
   "source": [
    "%blockrun button"
   ]
  },
  {
   "cell_type": "code",
   "execution_count": null,
   "metadata": {},
   "outputs": [],
   "source": [
    "data = np.array([[int(f.DM.value),int(f.HF.value),int(f.PVD.value),int(f.DEM.value),int(f.AGE.value),\n",
    "                  int(f.MOD_NON_OPT.value),int(f.MOD_OPT_PD.value),int(f.MOD_OPT_HD.value),int(f.MOD_NO.value)]])\n",
    "patient = pd.DataFrame({'DM': data[:, 0], 'HF': data[:, 1], 'PVD': data[:, 2], 'DEMENTIA': data[:, 3], 'AGE_AT_MOD_START': data[:,4], \n",
    "                        'MODALITY_NON-OPTIMAL START HD': data[:,5], 'MODALITY_OPTIMAL START HD': data[:,6], 'MODALITY_OPTIMAL START PD': data[:,7]})\n",
    "cph = fit_cox()\n",
    "probSurvival = cph.predict_survival_function(patient)"
   ]
  },
  {
   "cell_type": "code",
   "execution_count": null,
   "metadata": {},
   "outputs": [],
   "source": [
    "print(\"Patient survival probability at the 1, 3, and 5 year mark:\\n1 year: \"+str(f\"{probSurvival.loc[365, 0]*100:.2f}\")+\"%\"+\n",
    "      \"\\n3 year: \"+str(f\"{probSurvival.loc[1095, 0]*100:.2f}\")+\"%\"+\"\\n5 year: \"+str(f\"{probSurvival.loc[1825, 0]*100:.2f}\")+\"%\") #365, 1095, 1825 days\n"
   ]
  },
  {
   "cell_type": "code",
   "execution_count": null,
   "metadata": {},
   "outputs": [],
   "source": []
  }
 ],
 "metadata": {
  "kernelspec": {
   "display_name": "Python 3",
   "language": "python",
   "name": "python3"
  },
  "language_info": {
   "codemirror_mode": {
    "name": "ipython",
    "version": 3
   },
   "file_extension": ".py",
   "mimetype": "text/x-python",
   "name": "python",
   "nbconvert_exporter": "python",
   "pygments_lexer": "ipython3",
   "version": "3.7.5"
  }
 },
 "nbformat": 4,
 "nbformat_minor": 4
}
