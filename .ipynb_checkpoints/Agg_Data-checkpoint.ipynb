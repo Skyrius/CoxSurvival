{
 "cells": [
  {
   "cell_type": "code",
   "execution_count": 1,
   "metadata": {},
   "outputs": [],
   "source": [
    "from lifelines import KaplanMeierFitter\n",
    "from lifelines import CoxPHFitter\n",
    "import pandas as pd, numpy as np\n",
    "import csv"
   ]
  },
  {
   "cell_type": "code",
   "execution_count": 2,
   "metadata": {},
   "outputs": [],
   "source": [
    "def std(x): return np.std(x)\n",
    "def kmEstimate(x): \n",
    "    return np.std(x)"
   ]
  },
  {
   "cell_type": "code",
   "execution_count": 3,
   "metadata": {},
   "outputs": [
    {
     "data": {
      "text/html": [
       "<div>\n",
       "<style scoped>\n",
       "    .dataframe tbody tr th:only-of-type {\n",
       "        vertical-align: middle;\n",
       "    }\n",
       "\n",
       "    .dataframe tbody tr th {\n",
       "        vertical-align: top;\n",
       "    }\n",
       "\n",
       "    .dataframe thead th {\n",
       "        text-align: right;\n",
       "    }\n",
       "</style>\n",
       "<table border=\"1\" class=\"dataframe\">\n",
       "  <thead>\n",
       "    <tr style=\"text-align: right;\">\n",
       "      <th></th>\n",
       "      <th>PAT_ID</th>\n",
       "      <th>MODALITY</th>\n",
       "      <th>DM</th>\n",
       "      <th>HF</th>\n",
       "      <th>PVD</th>\n",
       "      <th>DEMENTIA</th>\n",
       "      <th>DM_HF_PVD_DEM</th>\n",
       "      <th>CVD_DAYS</th>\n",
       "      <th>AGE_AT_MOD_START</th>\n",
       "      <th>DEADORALIVE</th>\n",
       "      <th>ED_VISIT</th>\n",
       "      <th>HOSP_DAYS</th>\n",
       "      <th>SURGERIES</th>\n",
       "      <th>HOSPICE</th>\n",
       "      <th>SNF</th>\n",
       "    </tr>\n",
       "  </thead>\n",
       "  <tbody>\n",
       "    <tr>\n",
       "      <th>0</th>\n",
       "      <td>220000008654541</td>\n",
       "      <td>NON-OPTIMAL START HD</td>\n",
       "      <td>Y</td>\n",
       "      <td>N</td>\n",
       "      <td>Y</td>\n",
       "      <td>N</td>\n",
       "      <td>YNYN</td>\n",
       "      <td>1233</td>\n",
       "      <td>85</td>\n",
       "      <td>0</td>\n",
       "      <td>3.258516</td>\n",
       "      <td>2.073601</td>\n",
       "      <td>0.592457</td>\n",
       "      <td>0.000000</td>\n",
       "      <td>4.147202</td>\n",
       "    </tr>\n",
       "    <tr>\n",
       "      <th>1</th>\n",
       "      <td>212000008656129</td>\n",
       "      <td>NON-OPTIMAL START HD</td>\n",
       "      <td>Y</td>\n",
       "      <td>N</td>\n",
       "      <td>N</td>\n",
       "      <td>N</td>\n",
       "      <td>YNNN</td>\n",
       "      <td>423</td>\n",
       "      <td>54</td>\n",
       "      <td>1</td>\n",
       "      <td>13.815603</td>\n",
       "      <td>31.948582</td>\n",
       "      <td>0.863475</td>\n",
       "      <td>0.000000</td>\n",
       "      <td>0.000000</td>\n",
       "    </tr>\n",
       "    <tr>\n",
       "      <th>2</th>\n",
       "      <td>220000008657791</td>\n",
       "      <td>OPTIMAL START HD</td>\n",
       "      <td>Y</td>\n",
       "      <td>N</td>\n",
       "      <td>N</td>\n",
       "      <td>N</td>\n",
       "      <td>YNNN</td>\n",
       "      <td>1671</td>\n",
       "      <td>60</td>\n",
       "      <td>0</td>\n",
       "      <td>1.967235</td>\n",
       "      <td>2.841562</td>\n",
       "      <td>0.000000</td>\n",
       "      <td>0.000000</td>\n",
       "      <td>0.000000</td>\n",
       "    </tr>\n",
       "    <tr>\n",
       "      <th>3</th>\n",
       "      <td>21420860922</td>\n",
       "      <td>NON-OPTIMAL START HD</td>\n",
       "      <td>N</td>\n",
       "      <td>N</td>\n",
       "      <td>N</td>\n",
       "      <td>N</td>\n",
       "      <td>NNNN</td>\n",
       "      <td>1258</td>\n",
       "      <td>21</td>\n",
       "      <td>0</td>\n",
       "      <td>0.871025</td>\n",
       "      <td>4.645469</td>\n",
       "      <td>0.290342</td>\n",
       "      <td>0.000000</td>\n",
       "      <td>0.000000</td>\n",
       "    </tr>\n",
       "    <tr>\n",
       "      <th>4</th>\n",
       "      <td>21221166425</td>\n",
       "      <td>NON-OPTIMAL START HD</td>\n",
       "      <td>Y</td>\n",
       "      <td>Y</td>\n",
       "      <td>N</td>\n",
       "      <td>N</td>\n",
       "      <td>YYNN</td>\n",
       "      <td>508</td>\n",
       "      <td>67</td>\n",
       "      <td>1</td>\n",
       "      <td>6.470965</td>\n",
       "      <td>5.032972</td>\n",
       "      <td>1.437992</td>\n",
       "      <td>6.470965</td>\n",
       "      <td>0.000000</td>\n",
       "    </tr>\n",
       "  </tbody>\n",
       "</table>\n",
       "</div>"
      ],
      "text/plain": [
       "            PAT_ID              MODALITY DM HF PVD DEMENTIA DM_HF_PVD_DEM  \\\n",
       "0  220000008654541  NON-OPTIMAL START HD  Y  N   Y        N          YNYN   \n",
       "1  212000008656129  NON-OPTIMAL START HD  Y  N   N        N          YNNN   \n",
       "2  220000008657791      OPTIMAL START HD  Y  N   N        N          YNNN   \n",
       "3      21420860922  NON-OPTIMAL START HD  N  N   N        N          NNNN   \n",
       "4      21221166425  NON-OPTIMAL START HD  Y  Y   N        N          YYNN   \n",
       "\n",
       "   CVD_DAYS  AGE_AT_MOD_START  DEADORALIVE   ED_VISIT  HOSP_DAYS  SURGERIES  \\\n",
       "0      1233                85            0   3.258516   2.073601   0.592457   \n",
       "1       423                54            1  13.815603  31.948582   0.863475   \n",
       "2      1671                60            0   1.967235   2.841562   0.000000   \n",
       "3      1258                21            0   0.871025   4.645469   0.290342   \n",
       "4       508                67            1   6.470965   5.032972   1.437992   \n",
       "\n",
       "    HOSPICE       SNF  \n",
       "0  0.000000  4.147202  \n",
       "1  0.000000  0.000000  \n",
       "2  0.000000  0.000000  \n",
       "3  0.000000  0.000000  \n",
       "4  6.470965  0.000000  "
      ]
     },
     "execution_count": 3,
     "metadata": {},
     "output_type": "execute_result"
    }
   ],
   "source": [
    "df = pd.read_csv(\"DashBoard_Data_V2.csv\") \n",
    "# Preview the first 5 lines of the loaded data \n",
    "df.head()"
   ]
  },
  {
   "cell_type": "code",
   "execution_count": 4,
   "metadata": {},
   "outputs": [],
   "source": [
    "#Under 40\n",
    "dfUnder40 = df[df['AGE_AT_MOD_START'] < 40]\n",
    "#40-49\n",
    "df40s = df[df['AGE_AT_MOD_START'].between(40,49)]\n",
    "#50-59\n",
    "df50s = df[df['AGE_AT_MOD_START'].between(50,59)]\n",
    "#60-69\n",
    "df60s = df[df['AGE_AT_MOD_START'].between(60,69)]\n",
    "#70+\n",
    "dfOver70 = df[df['AGE_AT_MOD_START'] > 70]\n",
    "\n",
    "dfArray = {'dfUnder40':dfUnder40, 'df40s':df40s, 'df50s':df50s, 'df60s':df60s, 'dfOver70':dfOver70}"
   ]
  },
  {
   "cell_type": "code",
   "execution_count": 5,
   "metadata": {},
   "outputs": [],
   "source": [
    "combinedDF = pd.DataFrame()\n",
    "\n",
    "for key in dfArray:\n",
    "    dfAgg = dfArray.get(key).groupby(['MODALITY', 'DM_HF_PVD_DEM']).agg({'PAT_ID':'count' \\\n",
    "                                                             , 'DEADORALIVE':'sum' \\\n",
    "                                                             , 'CVD_DAYS':['mean',std] \\\n",
    "                                                             , 'AGE_AT_MOD_START':['mean',std] \\\n",
    "                                                             , 'ED_VISIT':['mean',std] \\\n",
    "                                                             , 'HOSP_DAYS':['mean',std] \\\n",
    "                                                             , 'SURGERIES':['mean',std] \\\n",
    "                                                             , 'HOSPICE':['mean',std] \\\n",
    "                                                             , 'SNF':['mean',std]\n",
    "                                                            }).round(2)\n",
    "    dfAgg.insert(0,'Age_Group',key)\n",
    "    combinedDF = pd.concat([combinedDF, dfAgg])\n",
    "    \n",
    "combinedDF.reset_index().to_csv('aggregatedDF.csv', index=False)"
   ]
  },
  {
   "cell_type": "markdown",
   "metadata": {},
   "source": [
    "### Kaplan Meier Estimate\n"
   ]
  },
  {
   "cell_type": "code",
   "execution_count": 6,
   "metadata": {},
   "outputs": [
    {
     "data": {
      "text/plain": [
       "<matplotlib.axes._subplots.AxesSubplot at 0x7fecc83284a8>"
      ]
     },
     "execution_count": 6,
     "metadata": {},
     "output_type": "execute_result"
    },
    {
     "data": {
      "image/png": "[encoded data removed]",
      "text/plain": [
       "<Figure size 432x288 with 1 Axes>"
      ]
     },
     "metadata": {
      "needs_background": "light"
     },
     "output_type": "display_data"
    }
   ],
   "source": [
    "durations = df50s['CVD_DAYS'].to_numpy()\n",
    "event_observed = df50s['DEADORALIVE'].to_numpy()\n",
    "## create a kmf object\n",
    "kmf = KaplanMeierFitter() \n",
    "\n",
    "## Fit the data into the model\n",
    "kmf.fit(durations, event_observed,label='Kaplan Meier Estimate')\n",
    "\n",
    "## Create an estimate\n",
    "kmf.plot(ci_show=False) ## ci_show is meant for Confidence interval, since our data set is too tiny, thus i am not showing it."
   ]
  },
  {
   "cell_type": "code",
   "execution_count": null,
   "metadata": {},
   "outputs": [],
   "source": [
    "kmf.predict(365)"
   ]
  },
  {
   "cell_type": "code",
   "execution_count": null,
   "metadata": {},
   "outputs": [],
   "source": []
  }
 ],
 "metadata": {
  "kernelspec": {
   "display_name": "Python 3",
   "language": "python",
   "name": "python3"
  },
  "language_info": {
   "codemirror_mode": {
    "name": "ipython",
    "version": 3
   },
   "file_extension": ".py",
   "mimetype": "text/x-python",
   "name": "python",
   "nbconvert_exporter": "python",
   "pygments_lexer": "ipython3",
   "version": "3.6.7"
  }
 },
 "nbformat": 4,
 "nbformat_minor": 2
}
