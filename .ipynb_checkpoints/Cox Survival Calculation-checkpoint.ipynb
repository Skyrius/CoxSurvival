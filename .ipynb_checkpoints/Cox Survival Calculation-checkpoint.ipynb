{
 "cells": [
  {
   "cell_type": "code",
   "execution_count": 1,
   "metadata": {},
   "outputs": [],
   "source": [
    "from lifelines import KaplanMeierFitter\n",
    "from lifelines import CoxPHFitter\n",
    "import pandas as pd\n",
    "import numpy as np\n",
    "from ipywidgets import *\n",
    "from IPython.display import Javascript, display\n",
    "import ipython_blocking # enables %block and %blockrun magic\n",
    "\n",
    "%run ./Cox_helper.ipynb\n"
   ]
  },
  {
   "cell_type": "code",
   "execution_count": 2,
   "metadata": {},
   "outputs": [
    {
     "name": "stdout",
     "output_type": "stream",
     "text": [
      "Enter the values for the patient\n"
     ]
    },
    {
     "data": {
      "application/vnd.jupyter.widget-view+json": {
       "model_id": "03b435934f5b40308599cf1b34814217",
       "version_major": 2,
       "version_minor": 0
      },
      "text/plain": [
       "Text(value='yes=1, no=0', description='DM', style=DescriptionStyle(description_width='initial'))"
      ]
     },
     "metadata": {},
     "output_type": "display_data"
    },
    {
     "data": {
      "application/vnd.jupyter.widget-view+json": {
       "model_id": "7cb252ac3d9c4f6c840472fc43caa87a",
       "version_major": 2,
       "version_minor": 0
      },
      "text/plain": [
       "Text(value='yes=1, no=0', description='HF', style=DescriptionStyle(description_width='initial'))"
      ]
     },
     "metadata": {},
     "output_type": "display_data"
    },
    {
     "data": {
      "application/vnd.jupyter.widget-view+json": {
       "model_id": "d189a3ac9f1d40ca92fb11578e6441c1",
       "version_major": 2,
       "version_minor": 0
      },
      "text/plain": [
       "Text(value='yes=1, no=0', description='PVD', style=DescriptionStyle(description_width='initial'))"
      ]
     },
     "metadata": {},
     "output_type": "display_data"
    },
    {
     "data": {
      "application/vnd.jupyter.widget-view+json": {
       "model_id": "f18db4e9c0b24824a22011e305a55596",
       "version_major": 2,
       "version_minor": 0
      },
      "text/plain": [
       "Text(value='yes=1, no=0', description='DEM', style=DescriptionStyle(description_width='initial'))"
      ]
     },
     "metadata": {},
     "output_type": "display_data"
    },
    {
     "data": {
      "application/vnd.jupyter.widget-view+json": {
       "model_id": "6eefa67aa68e40c4aff5e7b1cf117358",
       "version_major": 2,
       "version_minor": 0
      },
      "text/plain": [
       "Text(value='e.g. 80', description='Age', style=DescriptionStyle(description_width='initial'))"
      ]
     },
     "metadata": {},
     "output_type": "display_data"
    },
    {
     "data": {
      "application/vnd.jupyter.widget-view+json": {
       "model_id": "382809e6eccd43d0b36fe32d7418924b",
       "version_major": 2,
       "version_minor": 0
      },
      "text/plain": [
       "Text(value='yes=1, no=0', description='Non-Optimal Start HD', style=DescriptionStyle(description_width='initia…"
      ]
     },
     "metadata": {},
     "output_type": "display_data"
    },
    {
     "data": {
      "application/vnd.jupyter.widget-view+json": {
       "model_id": "13abc15cdc8a48d5898f5d3ea73ae4fc",
       "version_major": 2,
       "version_minor": 0
      },
      "text/plain": [
       "Text(value='yes=1, no=0', description='Optimal Start PD', style=DescriptionStyle(description_width='initial'))"
      ]
     },
     "metadata": {},
     "output_type": "display_data"
    },
    {
     "data": {
      "application/vnd.jupyter.widget-view+json": {
       "model_id": "f76eebf51ac746c5a7fb7919106cc3e6",
       "version_major": 2,
       "version_minor": 0
      },
      "text/plain": [
       "Text(value='yes=1, no=0', description='Optimal Start HD', style=DescriptionStyle(description_width='initial'))"
      ]
     },
     "metadata": {},
     "output_type": "display_data"
    },
    {
     "data": {
      "application/vnd.jupyter.widget-view+json": {
       "model_id": "c8e6be21820042ab87f0e33bd86b56d5",
       "version_major": 2,
       "version_minor": 0
      },
      "text/plain": [
       "Text(value='yes=1, no=0', description='No dialysis', style=DescriptionStyle(description_width='initial'))"
      ]
     },
     "metadata": {},
     "output_type": "display_data"
    },
    {
     "data": {
      "application/vnd.jupyter.widget-view+json": {
       "model_id": "7e08a13ce0ba46c394eb0c3435904527",
       "version_major": 2,
       "version_minor": 0
      },
      "text/plain": [
       "Button(description='Calculate', style=ButtonStyle())"
      ]
     },
     "metadata": {},
     "output_type": "display_data"
    },
    {
     "data": {
      "application/javascript": [
       "Jupyter.notebook.select_next().execute_cells_below()"
      ],
      "text/plain": [
       "<IPython.core.display.Javascript object>"
      ]
     },
     "metadata": {},
     "output_type": "display_data"
    },
    {
     "data": {
      "application/javascript": [
       "Jupyter.notebook.select_next().execute_cells_below()"
      ],
      "text/plain": [
       "<IPython.core.display.Javascript object>"
      ]
     },
     "metadata": {},
     "output_type": "display_data"
    }
   ],
   "source": [
    "button = widgets.Button(description=\"Calculate\")\n",
    "button.on_click(run_all)\n",
    "print(\"Enter the values for the patient\")\n",
    "f = patient_input()\n",
    "display(button)"
   ]
  },
  {
   "cell_type": "code",
   "execution_count": 7,
   "metadata": {},
   "outputs": [],
   "source": [
    "%blockrun button"
   ]
  },
  {
   "cell_type": "code",
   "execution_count": 8,
   "metadata": {},
   "outputs": [
    {
     "name": "stdout",
     "output_type": "stream",
     "text": [
      "Patient survival probability at the 1, 3, and 5 year mark:\n",
      "1 year: 68.8214119457396%\n",
      "3 year: 33.49807408466715%\n",
      "5 year: 8.392092212460813%\n"
     ]
    }
   ],
   "source": [
    "data = np.array([[int(f.DM.value),int(f.HF.value),int(f.PVD.value),int(f.DEM.value),int(f.AGE.value),\n",
    "                  int(f.MOD_NON_OPT.value),int(f.MOD_OPT_PD.value),int(f.MOD_OPT_HD.value),int(f.MOD_NO.value)]])\n",
    "patient = pd.DataFrame({'DM': data[:, 0], 'HF': data[:, 1], 'PVD': data[:, 2], 'DEMENTIA': data[:, 3], 'AGE_AT_MOD_START': data[:,4], \n",
    "                        'MODALITY_NON-OPTIMAL START HD': data[:,5], 'MODALITY_OPTIMAL START HD': data[:,6], 'MODALITY_OPTIMAL START PD': data[:,7]})\n",
    "cph = fit_cox()\n",
    "probSurvival = cph.predict_survival_function(patient)\n"
   ]
  },
  {
   "cell_type": "code",
   "execution_count": 10,
   "metadata": {},
   "outputs": [
    {
     "ename": "SyntaxError",
     "evalue": "unexpected character after line continuation character (<ipython-input-10-fb4780f0c009>, line 2)",
     "output_type": "error",
     "traceback": [
      "\u001b[1;36m  File \u001b[1;32m\"<ipython-input-10-fb4780f0c009>\"\u001b[1;36m, line \u001b[1;32m2\u001b[0m\n\u001b[1;33m    \"\\n3 year: \"+str(f\"{probSurvival.loc[1095, 0]*100:.2f})+\"%\"+\"\\n5 year: \"+str(f\"{probSurvival.loc[1825, 0]*100:.2f})+\"%\") #365, 1095, 1825 days\u001b[0m\n\u001b[1;37m                                                                                                                                                  ^\u001b[0m\n\u001b[1;31mSyntaxError\u001b[0m\u001b[1;31m:\u001b[0m unexpected character after line continuation character\n"
     ]
    }
   ],
   "source": [
    "print(\"Patient survival probability at the 1, 3, and 5 year mark:\\n1 year: \"+str(f\"{probSurvival.loc[365, 0]*100:.2f}\")+\"%\"+\n",
    "      \"\\n3 year: \"+str(f\"{probSurvival.loc[1095, 0]*100:.2f}\")+\"%\"+\"\\n5 year: \"+str(f\"{probSurvival.loc[1825, 0]*100:.2f}\")+\"%\") #365, 1095, 1825 days\n"
   ]
  },
  {
   "cell_type": "code",
   "execution_count": null,
   "metadata": {},
   "outputs": [],
   "source": []
  }
 ],
 "metadata": {
  "kernelspec": {
   "display_name": "Python 3",
   "language": "python",
   "name": "python3"
  },
  "language_info": {
   "codemirror_mode": {
    "name": "ipython",
    "version": 3
   },
   "file_extension": ".py",
   "mimetype": "text/x-python",
   "name": "python",
   "nbconvert_exporter": "python",
   "pygments_lexer": "ipython3",
   "version": "3.7.5"
  }
 },
 "nbformat": 4,
 "nbformat_minor": 4
}
