{
 "cells": [
  {
   "cell_type": "code",
   "execution_count": 3,
   "metadata": {},
   "outputs": [],
   "source": [
    "from lifelines import KaplanMeierFitter\n",
    "from lifelines import CoxPHFitter\n",
    "import pandas as pd\n",
    "import numpy as np\n",
    "from ipywidgets import *\n",
    "from IPython.display import display, Javascript"
   ]
  },
  {
   "cell_type": "code",
   "execution_count": null,
   "metadata": {},
   "outputs": [],
   "source": [
    "def fit_cox():\n",
    "    df = pd.read_csv(\"KM_Data_v2.csv\") \n",
    "    durations = df['CVD_DAYS'].to_numpy()\n",
    "    event_observed = df['DEADORALIVE'].to_numpy()\n",
    "    df.DM.replace(('Y', 'N'), (1, 0), inplace=True)\n",
    "    df.HF.replace(('Y', 'N'), (1, 0), inplace=True)\n",
    "    df.PVD.replace(('Y', 'N'), (1, 0), inplace=True)\n",
    "    df.DEMENTIA.replace(('Y', 'N'), (1, 0), inplace=True)\n",
    "    df_noMods = df.drop(['DM_HF_PVD_DEM', 'PAT_ID', 'ED_VISIT', 'HOSP_DAYS', 'SURGERIES', 'HOSPICE', 'SNF'], axis=1)\n",
    "    df_dummy = pd.get_dummies(df_noMods)\n",
    "    df_dummy = df_dummy.drop('MODALITY_PLANNED NO DIALYSIS', axis=1)\n",
    "    # Using Cox Proportional Hazards model\n",
    "    cph = CoxPHFitter()   ## Instantiate the class to create a cph object\n",
    "    cph.fit(df_dummy, 'CVD_DAYS', event_col='DEADORALIVE')   ## Fit the data to train the model\n",
    "    return cph\n",
    "    "
   ]
  },
  {
   "cell_type": "code",
   "execution_count": null,
   "metadata": {},
   "outputs": [],
   "source": [
    "def run_all(ev):\n",
    "    display(Javascript('IPython.notebook.execute_cell_range(IPython.notebook.get_selected_index()+1, IPython.notebook.ncells())'))"
   ]
  },
  {
   "cell_type": "code",
   "execution_count": null,
   "metadata": {},
   "outputs": [],
   "source": [
    "class patient_input():\n",
    "    def __init__(self, \n",
    "                 DM = \"yes=1, no=0\", \n",
    "                 HF = \"yes=1, no=0\", \n",
    "                 PVD = \"yes=1, no=0\",\n",
    "                 DEM = \"yes=1, no=0\",\n",
    "                 AGE = \"e.g. 80\",\n",
    "                 MOD_NON_OPT = \"yes=1, no=0\",\n",
    "                 MOD_OPT_PD = \"yes=1, no=0\",\n",
    "                 MOD_OPT_HD = \"yes=1, no=0\",\n",
    "                 MOD_NO = \"yes=1, no=0\"\n",
    "                ):\n",
    "        style = {'description_width': 'initial'}\n",
    "        self.DM = widgets.Text(description = 'DM',value = DM, style=style)\n",
    "        self.HF = widgets.Text(description = 'HF',value = HF, style=style)\n",
    "        self.PVD = widgets.Text(description = 'PVD',value = PVD, style=style)\n",
    "        self.DEM = widgets.Text(description = 'DEM',value = DEM, style=style)\n",
    "        self.AGE = widgets.Text(description = 'Age',value = AGE, style=style)\n",
    "        self.MOD_NON_OPT = widgets.Text(description = 'Non-Optimal Start HD',value = MOD_NON_OPT, style=style)\n",
    "        self.MOD_OPT_PD = widgets.Text(description = 'Optimal Start PD',value = MOD_OPT_PD, style=style)\n",
    "        self.MOD_OPT_HD = widgets.Text(description = 'Optimal Start HD',value = MOD_OPT_HD, style=style)\n",
    "        self.MOD_NO = widgets.Text(description = 'No dialysis',value = MOD_NO, style=style)\n",
    "        self.DM.on_submit(self.handle_submit)\n",
    "        self.HF.on_submit(self.handle_submit)\n",
    "        self.PVD.on_submit(self.handle_submit)\n",
    "        self.DEM.on_submit(self.handle_submit)\n",
    "        self.AGE.on_submit(self.handle_submit)\n",
    "        self.MOD_NON_OPT.on_submit(self.handle_submit)\n",
    "        self.MOD_OPT_PD.on_submit(self.handle_submit)\n",
    "        self.MOD_OPT_HD.on_submit(self.handle_submit)\n",
    "        self.MOD_NO.on_submit(self.handle_submit)\n",
    "        display(self.DM, self.HF, self.PVD, self.DEM, self.AGE, self.MOD_NON_OPT, self.MOD_OPT_PD, self.MOD_OPT_HD, self.MOD_NO)\n",
    "\n",
    "    def handle_submit(self, text):\n",
    "        self.v = text.value\n",
    "        return self.v"
   ]
  }
 ],
 "metadata": {
  "kernelspec": {
   "display_name": "Python 3",
   "language": "python",
   "name": "python3"
  },
  "language_info": {
   "codemirror_mode": {
    "name": "ipython",
    "version": 3
   },
   "file_extension": ".py",
   "mimetype": "text/x-python",
   "name": "python",
   "nbconvert_exporter": "python",
   "pygments_lexer": "ipython3",
   "version": "3.7.5"
  }
 },
 "nbformat": 4,
 "nbformat_minor": 4
}
